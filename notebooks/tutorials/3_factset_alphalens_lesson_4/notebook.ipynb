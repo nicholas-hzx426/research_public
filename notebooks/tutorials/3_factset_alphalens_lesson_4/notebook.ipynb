{
 "cells": [
  {
   "cell_type": "markdown",
   "metadata": {},
   "source": [
    "#### Companion notebook for Alphalens tutorial lesson 4\n",
    "\n",
    "# Advanced Alphalens concepts\n",
    "\n",
    "You've learned the basics of using Alphalens. This lesson explores the following advanced Alphalens concepts:\n",
    "\n",
    "1. Determining how far an alpha factor's decay rate.\n",
    "2. Dealing with a common Alphalens error named MaxLossExceededError.\n",
    "3. Grouping assets by market cap, then analyzing each cap type individually.\n",
    "4. Writing group neutral strategies.\n",
    "\n",
    "**All sections of this lesson will use the data produced by the Pipeline created in the following cell. Please run it.**\n",
    "\n",
    "**Important note**: Until this lesson, we passed the output of `run_pipeline()` to `get_clean_factor_and_forward_returns()` without any changes. This was possible because the previous lessons' Pipelines only returned one column. This lesson's Pipeline returns two columns, which means we need to *specify the column* we're passing as factor data. Look for commented code near `get_clean_factor_and_forward_returns()` in the following cell to see how to do this."
   ]
  },
  {
   "cell_type": "code",
   "execution_count": null,
   "metadata": {},
   "outputs": [],
   "source": [
    "from quantopian.pipeline import Pipeline\n",
    "from quantopian.research import run_pipeline\n",
    "from quantopian.pipeline.factors import AverageDollarVolume\n",
    "from quantopian.pipeline.data import factset, USEquityPricing\n",
    "from alphalens.utils import get_clean_factor_and_forward_returns\n",
    "\n",
    "\n",
    "def make_pipeline():\n",
    "    # Filter out equities with low market capitalization\n",
    "    market_cap_filter = factset.Fundamentals.mkt_val.latest > 500000000\n",
    "\n",
    "    # Filter out equities with low volume\n",
    "    volume_filter = AverageDollarVolume(window_length=200) > 2500000\n",
    "\n",
    "    # Filter out equities with a close price below $5\n",
    "    price_filter = USEquityPricing.close.latest > 5\n",
    "\n",
    "    # Our final base universe\n",
    "    base_universe = market_cap_filter & volume_filter & price_filter\n",
    "    \n",
    "    change_in_working_capital = factset.Fundamentals.wkcap_chg_qf.latest\n",
    "    ciwc_processed = change_in_working_capital.winsorize(.2, .98).zscore()\n",
    "    \n",
    "    sales_per_working_capital = factset.Fundamentals.sales_wkcap_qf.latest\n",
    "    spwc_processed = sales_per_working_capital.winsorize(.2, .98).zscore()\n",
    "\n",
    "    factor_to_analyze = (ciwc_processed + spwc_processed).zscore()\n",
    "\n",
    "    # The following columns will help us group assets by market cap. This will allow us to analyze\n",
    "    # whether our alpha factor's predictiveness varies among assets with different market caps.\n",
    "    market_cap = factset.Fundamentals.mkt_val.latest\n",
    "    is_small_cap = market_cap.percentile_between(0, 100)\n",
    "    is_mid_cap = market_cap.percentile_between(50, 100)\n",
    "    is_large_cap = market_cap.percentile_between(90, 100)\n",
    "\n",
    "    return Pipeline(\n",
    "        columns = {\n",
    "          'factor_to_analyze': factor_to_analyze, \n",
    "          'small_cap_filter': is_small_cap,\n",
    "          'mid_cap_filter': is_mid_cap,\n",
    "          'large_cap_filter': is_large_cap,\n",
    "        },\n",
    "        screen = (\n",
    "            base_universe\n",
    "            & factor_to_analyze.notnull()\n",
    "            & market_cap.notnull()\n",
    "        )\n",
    "    )\n",
    "\n",
    "\n",
    "pipeline_output = run_pipeline(make_pipeline(), '2013-1-1', '2014-1-1')\n",
    "pricing_data = get_pricing(pipeline_output.index.levels[1], '2013-1-1', '2014-3-1', fields='open_price')\n",
    "\n",
    "# To group by market cap, we will follow the following steps.\n",
    "\n",
    "# Convert the \"True\" values to ones, so they can be added together\n",
    "pipeline_output[['small_cap_filter', 'mid_cap_filter', 'large_cap_filter']] *= 1\n",
    "\n",
    "# If a stock passed the large_cap filter, it also passed the mid_cap and small_cap filters.\n",
    "# This means we can add the three columns, and stocks that are large_cap will get a value of 3,\n",
    "# stocks that are mid cap will get a value of 2, and stocks that are small cap will get 1.\n",
    "pipeline_output['cap_type'] = (\n",
    "    pipeline_output['small_cap_filter'] + pipeline_output['mid_cap_filter'] + pipeline_output['large_cap_filter']\n",
    ")\n",
    "\n",
    "# drop the old columns, we don't need them anymore\n",
    "pipeline_output.drop(['small_cap_filter', 'mid_cap_filter', 'large_cap_filter'], axis=1, inplace=True)\n",
    "\n",
    "# rename the 1's, 2's and 3's for clarity\n",
    "pipeline_output['cap_type'].replace([1, 2, 3], ['small_cap', 'mid_cap', 'large_cap'], inplace=True)\n",
    "\n",
    "# the final product\n",
    "pipeline_output.head(5)"
   ]
  },
  {
   "cell_type": "markdown",
   "metadata": {},
   "source": [
    "## Visualizing An Alpha Factor's Decay Rate\n",
    "\n",
    "A lot of fundamental data only comes out 4 times a year in quarterly reports. Because of this low frequency, it can be useful to increase the amount of time `get_clean_factor_and_forward_returns()` looks into the future to calculate returns. \n",
    "\n",
    "**Tip:** A month usually has 21 trading days, a quarter usually has 63 trading days, and a year usually has 252 trading days.\n",
    "\n",
    "Let's say you're creating a strategy that buys stock in companies with rising profits (data that is released every 63 trading days). Would you only look 10 days into the future to analyze that factor? Probably not! But how do you decide how far to look forward?\n",
    "\n",
    "**Run the following cell to chart our alpha factor's IC mean over time. The point where the line dips below 0 represents when our alpha factor's predictions stop being useful.**"
   ]
  },
  {
   "cell_type": "code",
   "execution_count": null,
   "metadata": {},
   "outputs": [],
   "source": [
    "longest_look_forward_period = 63 # week = 5, month = 21, quarter = 63, year = 252\n",
    "range_step = 5\n",
    "\n",
    "merged_data = get_clean_factor_and_forward_returns(\n",
    "    factor = pipeline_output['factor_to_analyze'],\n",
    "    prices = pricing_data,\n",
    "    periods = range(1, longest_look_forward_period, range_step)\n",
    ")\n",
    "\n",
    "from alphalens.performance import mean_information_coefficient\n",
    "mean_information_coefficient(merged_data).plot(title=\"IC Decay\");"
   ]
  },
  {
   "cell_type": "markdown",
   "metadata": {},
   "source": [
    "What do you think the chart will look like if we calculate the IC a full year into the future?\n",
    "\n",
    "*Hint*: This is a setup for section two of this lesson."
   ]
  },
  {
   "cell_type": "code",
   "execution_count": null,
   "metadata": {},
   "outputs": [],
   "source": [
    "factor_data = get_clean_factor_and_forward_returns(\n",
    "    pipeline_output['factor_to_analyze'], \n",
    "    pricing_data,\n",
    "    periods=range(1,252,20) # The third argument to the range statement changes the \"step\" of the range\n",
    ")\n",
    "\n",
    "mean_information_coefficient(factor_data).plot()"
   ]
  },
  {
   "cell_type": "markdown",
   "metadata": {},
   "source": [
    "## Dealing With MaxLossExceededError\n",
    "\n",
    "Oh no! What does `MaxLossExceededError` mean?\n",
    "\n",
    "`get_clean_factor_and_forward_returns()` looks at how alpha factor data affects pricing data *in the future*. This means we need our pricing data to go further into the future than our alpha factor data **by at least as long as our forward looking period.** \n",
    "\n",
    "In this case, we'll change `get_pricing()`'s `end_date` to be at least a year after `run_pipeline()`'s `end_date`.\n",
    "\n",
    "**Run the following cell to make those changes. As you can see, this alpha factor's IC decays quickly after a quarter, but comes back even stronger six months into the future. Interesting!**"
   ]
  },
  {
   "cell_type": "code",
   "execution_count": null,
   "metadata": {},
   "outputs": [],
   "source": [
    "new_pipeline_output = run_pipeline(\n",
    "    make_pipeline(),\n",
    "    start_date='2013-1-1', \n",
    "    end_date='2014-1-1' #  *** NOTE *** Our factor data ends in 2014\n",
    ")\n",
    "\n",
    "new_pricing_data = get_pricing(\n",
    "    pipeline_output.index.levels[1], \n",
    "    start_date='2013-1-1',\n",
    "    end_date='2015-2-1', # *** NOTE *** Our pricing data ends in 2015\n",
    "    fields='open_price'\n",
    ")\n",
    "\n",
    "new_factor_data = get_clean_factor_and_forward_returns(\n",
    "    new_pipeline_output['factor_to_analyze'], \n",
    "    new_pricing_data,\n",
    "    periods=range(1,252,20) # Change the step to 10 or more for long look forward periods to save time\n",
    ")\n",
    "\n",
    "mean_information_coefficient(new_factor_data).plot()"
   ]
  },
  {
   "cell_type": "markdown",
   "metadata": {},
   "source": [
    "*Note: MaxLossExceededError has two possible causes; forward returns computation and binning. We showed you how to fix forward returns computation here because it is much more common. Try passing `quantiles=None` and `bins=5` if you get MaxLossExceededError because of binning.*"
   ]
  },
  {
   "cell_type": "markdown",
   "metadata": {},
   "source": [
    "## Analyzing Alpha Factors By Group\n",
    "\n",
    "Alphalens allows you to group assets using a classifier. A common use case for this is classifying equities by market cap then comparing your alpha factor's returns among cap types.\n",
    "\n",
    "You can group assets by any classifier, but sector and market cap are most common. The Pipeline in the first cell of this lesson returns a column named `cap_type`, whose values represent the assets market capitalization. All we have to do now is pass that column to the `groupby` argument of `get_clean_factor_and_forward_returns()`\n",
    "\n",
    "**Run the following cell, and notice the charts at the bottom of the tear sheet showing how our factor performs among different cap types.**"
   ]
  },
  {
   "cell_type": "code",
   "execution_count": null,
   "metadata": {
    "scrolled": false
   },
   "outputs": [],
   "source": [
    "from alphalens.tears import create_returns_tear_sheet\n",
    "\n",
    "factor_data = get_clean_factor_and_forward_returns(\n",
    "    factor=pipeline_output['factor_to_analyze'],\n",
    "    prices=pricing_data,\n",
    "    groupby=pipeline_output['cap_type'],\n",
    ")\n",
    "\n",
    "create_returns_tear_sheet(factor_data=factor_data, by_group=True)"
   ]
  },
  {
   "cell_type": "markdown",
   "metadata": {},
   "source": [
    "## Writing Group Neutral Strategies\n",
    "\n",
    "Not only does Alphalens allow us to simulate how our alpha factor would perform in a long/short trading strategy, it also allows us to simulate how it would do if we went long/short on every group! \n",
    "\n",
    "Grouping by cap type, and going long/short on each cap type allows you to limit exposure to the overall movement of those market cap groups. For example, you may have noticed in step three of this tutorial, that certain cap types had all positive returns, or all negative returns. That information isn't useful to us, because that just means the market cap group outperformed (or underperformed) the market; it doesn't give us any insight into how our factor performs within that cap type.\n",
    "\n",
    "Since we grouped our assets by cap type in the previous cell, going group neutral is easy; just make the two following changes:\n",
    "- Pass `binning_by_group=True` as an argument to `get_clean_factor_and_forward_returns()`.\n",
    "- Pass `group_neutral=True` as an argument to `create_full_tear_sheet()`.\n",
    "\n",
    "**The following cell has made the approriate changes. Try running it and notice how the results differ from the previous cell.**"
   ]
  },
  {
   "cell_type": "code",
   "execution_count": null,
   "metadata": {
    "scrolled": false
   },
   "outputs": [],
   "source": [
    "factor_data = get_clean_factor_and_forward_returns(\n",
    "    pipeline_output['factor_to_analyze'],\n",
    "    prices=pricing_data,\n",
    "    groupby=pipeline_output['cap_type'],\n",
    "    binning_by_group=True,\n",
    ")\n",
    "\n",
    "create_returns_tear_sheet(factor_data, by_group=True, group_neutral=True)"
   ]
  },
  {
   "cell_type": "markdown",
   "metadata": {},
   "source": [
    "That's it! This tutorial got you started with Alphalens, but there's so much more to it. Check out our [API docs](http://quantopian.github.io/alphalens/) to see the rest!"
   ]
  },
  {
   "cell_type": "code",
   "execution_count": null,
   "metadata": {},
   "outputs": [],
   "source": []
  }
 ],
 "metadata": {
  "kernelspec": {
   "display_name": "Python 2",
   "language": "python",
   "name": "python2"
  },
  "language_info": {
   "codemirror_mode": {
    "name": "ipython",
    "version": 2
   },
   "file_extension": ".py",
   "mimetype": "text/x-python",
   "name": "python",
   "nbconvert_exporter": "python",
   "pygments_lexer": "ipython2",
   "version": "2.7.12"
  }
 },
 "nbformat": 4,
 "nbformat_minor": 2
}
